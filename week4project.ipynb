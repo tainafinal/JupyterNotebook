{
 "cells": [
  {
   "cell_type": "markdown",
   "id": "f16afc6b-d3fd-4e3b-9d5e-1ce556b3ff7c",
   "metadata": {},
   "source": [
    "# My Jupyter Notebook on IBM Watson Studio"
   ]
  },
  {
   "cell_type": "markdown",
   "id": "bdb49ee3-f6ee-4e19-b469-95d22e466eaa",
   "metadata": {},
   "source": [
    "<b>Name: Taina Caballero</b>  \n",
    "Current Occupation: Data Analyst"
   ]
  },
  {
   "cell_type": "markdown",
   "id": "0fe7cc6c-71e2-4b27-95d4-a01e1fe4edfa",
   "metadata": {},
   "source": [
    "_I am interested in data science because it helps us to derive meaningful insights from the data which give huge impacts in making business decision for my organizations._"
   ]
  },
  {
   "cell_type": "markdown",
   "id": "132ad321-60b3-43f5-8e73-b18b1d02e45a",
   "metadata": {},
   "source": [
    "### In Cell 5 (cell below), I would like to calculate my BMI (Body Mass Index) using my weight (in kg) and heigh (in m)"
   ]
  },
  {
   "cell_type": "code",
   "execution_count": 3,
   "id": "695c4485-9b18-4596-bbb5-e021d83ff89d",
   "metadata": {},
   "outputs": [
    {
     "name": "stdout",
     "output_type": "stream",
     "text": [
      "23.37472607742878\n"
     ]
    }
   ],
   "source": [
    "# weight = 80kg\n",
    "# height = 1.85m\n",
    "\n",
    "weight = 80\n",
    "height = 1.85\n",
    "\n",
    "my_bmi = weight / ((height)*(height))\n",
    "\n",
    "print(my_bmi)"
   ]
  },
  {
   "cell_type": "markdown",
   "id": "f53c5f71-3c10-46d1-a0ba-1c9cb7059122",
   "metadata": {},
   "source": [
    "Item 1: Hyperlink  \n",
    "<a> https://www.facebook.com/ </a>  \n",
    "\n",
    "Item 2: Strikethrough  \n",
    "~~Striking "
   ]
  },
  {
   "cell_type": "code",
   "execution_count": null,
   "id": "45890228-4aa7-4c2f-9e36-f51df48e96de",
   "metadata": {},
   "outputs": [],
   "source": []
  }
 ],
 "metadata": {
  "kernelspec": {
   "display_name": "Python 3 (ipykernel)",
   "language": "python",
   "name": "python3"
  },
  "language_info": {
   "codemirror_mode": {
    "name": "ipython",
    "version": 3
   },
   "file_extension": ".py",
   "mimetype": "text/x-python",
   "name": "python",
   "nbconvert_exporter": "python",
   "pygments_lexer": "ipython3",
   "version": "3.9.12"
  }
 },
 "nbformat": 4,
 "nbformat_minor": 5
}
